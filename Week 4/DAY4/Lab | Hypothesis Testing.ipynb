{
 "cells": [
  {
   "cell_type": "markdown",
   "id": "1a721311",
   "metadata": {},
   "source": [
    "It is assumed that the mean systolic blood pressure is μ = 120 mm Hg. In the Honolulu Heart Study, a sample of n = 100 people had an average systolic blood pressure of 130.1 mm Hg with a standard deviation of 21.21 mm Hg. Is the group significantly different (with respect to systolic blood pressure!) from the regular population?\n",
    "* Set up the hypothesis test.\n",
    "* Write down all the steps followed for setting up the test.\n",
    "* Calculate the test statistic by hand and also code it in Python. It should be 4.76190. What decision can you make based on this calculated value?"
   ]
  },
  {
   "cell_type": "code",
   "execution_count": 11,
   "id": "45e448e2",
   "metadata": {},
   "outputs": [],
   "source": [
    "import math\n",
    "from scipy import stats"
   ]
  },
  {
   "cell_type": "markdown",
   "id": "2fa50b23",
   "metadata": {},
   "source": [
    "- μ = 120 mm Hg\n",
    "- Sample size (n) = 100 \n",
    "- Sample mean systolic blood pressure = 130.1 mm Hg\n",
    "- Sample standard deviation of 21.21 mm Hg\n",
    "\n",
    "The null hypothesis is that the individual has normal systolic blood pressure μ = 120 mm Hg unless proven otherwise  H0: μ=120\n",
    "\n",
    "Alternative hypothesis ha: μ!=120 \n",
    "\n",
    "It is a one sided test whereby, ha: μ!=120, H0 is false \n",
    "\n",
    "We’ll be using the t-student distribution since the standard deviation is unknown, as the sample size increases this bring the t-distibtion value  \n",
    "\n",
    "Sample error = 130.1-120= **10.1** \n",
    "Degree of freedom = n-1= 100-1= **99** \n",
    "\n",
    "Assuming **confidence level of 95%** , thus the significance level **α =0.05**"
   ]
  },
  {
   "cell_type": "code",
   "execution_count": 26,
   "id": "8e284427",
   "metadata": {},
   "outputs": [
    {
     "name": "stdout",
     "output_type": "stream",
     "text": [
      "The value of test statics is 4.761904761904759\n"
     ]
    }
   ],
   "source": [
    "#now we use the test statics\n",
    "t= (130.1-120)/(21.21/math.sqrt(100))\n",
    "print (\"The value of test statics is\", t)"
   ]
  },
  {
   "cell_type": "code",
   "execution_count": 27,
   "id": "e16d83bd",
   "metadata": {},
   "outputs": [
    {
     "name": "stdout",
     "output_type": "stream",
     "text": [
      "The critical value for df=99 and confidence level of 95% is -1.9842169515086827\n"
     ]
    }
   ],
   "source": [
    "tc = +- scipy.stats.t.ppf(0.975, df=99)\n",
    "print (\"The critical value for df=99 and confidence level of 95% is\",tc)"
   ]
  },
  {
   "cell_type": "markdown",
   "id": "853f63bf",
   "metadata": {},
   "source": [
    "becasue t>tc we reject the  null hypothesis\n",
    "\n",
    "**the sample has abnormal systolic blood pressure**"
   ]
  },
  {
   "cell_type": "code",
   "execution_count": null,
   "id": "7fe9dc02",
   "metadata": {},
   "outputs": [],
   "source": []
  },
  {
   "cell_type": "code",
   "execution_count": null,
   "id": "097cdb8e",
   "metadata": {},
   "outputs": [],
   "source": []
  },
  {
   "cell_type": "code",
   "execution_count": null,
   "id": "cfc82350",
   "metadata": {},
   "outputs": [],
   "source": []
  }
 ],
 "metadata": {
  "kernelspec": {
   "display_name": "Python 3 (ipykernel)",
   "language": "python",
   "name": "python3"
  },
  "language_info": {
   "codemirror_mode": {
    "name": "ipython",
    "version": 3
   },
   "file_extension": ".py",
   "mimetype": "text/x-python",
   "name": "python",
   "nbconvert_exporter": "python",
   "pygments_lexer": "ipython3",
   "version": "3.8.12"
  },
  "toc": {
   "base_numbering": 1,
   "nav_menu": {},
   "number_sections": true,
   "sideBar": true,
   "skip_h1_title": false,
   "title_cell": "Table of Contents",
   "title_sidebar": "Contents",
   "toc_cell": false,
   "toc_position": {},
   "toc_section_display": true,
   "toc_window_display": false
  }
 },
 "nbformat": 4,
 "nbformat_minor": 5
}
