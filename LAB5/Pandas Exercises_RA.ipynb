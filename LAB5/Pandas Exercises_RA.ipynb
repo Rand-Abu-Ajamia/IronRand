{
 "cells": [
  {
   "cell_type": "markdown",
   "id": "d38beb76",
   "metadata": {},
   "source": [
    "## Panda Exercises \n",
    "https://www.machinelearningplus.com/python/101-pandas-exercises-python/"
   ]
  },
  {
   "cell_type": "code",
   "execution_count": 3,
   "id": "fc743ad8",
   "metadata": {
    "scrolled": true
   },
   "outputs": [
    {
     "data": {
      "text/plain": [
       "'1.3.3'"
      ]
     },
     "execution_count": 3,
     "metadata": {},
     "output_type": "execute_result"
    }
   ],
   "source": [
    "import pandas as pd  #importing panda\n",
    "pd.__version__       #checking the version"
   ]
  },
  {
   "cell_type": "code",
   "execution_count": 18,
   "id": "e02a012d",
   "metadata": {},
   "outputs": [
    {
     "name": "stdout",
     "output_type": "stream",
     "text": [
      "a    0\n",
      "b    1\n",
      "c    2\n",
      "e    3\n",
      "d    4\n",
      "dtype: int64\n"
     ]
    }
   ],
   "source": [
    "import numpy as np\n",
    "mylist = list('abcedfghijklmnopqrstuvwxyz')\n",
    "myarr = np.arange(26)\n",
    "mydict = dict(zip(mylist, myarr))\n",
    "\n",
    "# Solution\n",
    "ser1 = pd.Series(mylist)\n",
    "ser2 = pd.Series(myarr)\n",
    "ser3 = pd.Series(mydict)\n",
    "print(ser3.head())   #print the first 5"
   ]
  },
  {
   "cell_type": "code",
   "execution_count": 52,
   "id": "f2860ec5",
   "metadata": {},
   "outputs": [
    {
     "name": "stdout",
     "output_type": "stream",
     "text": [
      "[ 0  1  2  3  4  5  6  7  8  9 10 11 12 13 14 15 16 17 18 19 20 21 22 23\n",
      " 24 25]\n"
     ]
    }
   ],
   "source": [
    "myarr = np.arange(26)\n",
    "print(myarr)"
   ]
  },
  {
   "cell_type": "code",
   "execution_count": 65,
   "id": "2bf5027b",
   "metadata": {},
   "outputs": [],
   "source": [
    "#Create a pandas series from each of the items below: a list, numpy and a dictionary\n",
    "import numpy as np\n",
    "mylist = list('abcedfghijklmnopqrstuvwxyz')\n",
    "myarr = np.arange(26)\n",
    "mydict = dict(zip(mylist, myarr))\n",
    "\n",
    "series_list=pd.Series(mylist)\n",
    "series_arr=pd.Series(myarr)\n",
    "series_dict=pd.Series(mydict)\n"
   ]
  },
  {
   "cell_type": "code",
   "execution_count": 75,
   "id": "b0c77123",
   "metadata": {},
   "outputs": [
    {
     "name": "stdout",
     "output_type": "stream",
     "text": [
      "  index  0\n",
      "0     a  0\n",
      "1     b  1\n",
      "2     c  2\n",
      "3     e  3\n",
      "4     d  4\n"
     ]
    }
   ],
   "source": [
    "#3. How to convert the index of a series into a column of a dataframe?\n",
    "\n",
    "def_lis=(series_list.to_frame().reset_index())  # by this we add a third column, with the different indeces \n",
    "def_arr=(series_arr.to_frame().reset_index())\n",
    "def_dict=(series_dict.to_frame().reset_index())\n",
    "\n",
    "print(def_dict.head())"
   ]
  },
  {
   "cell_type": "code",
   "execution_count": 81,
   "id": "2b866b52",
   "metadata": {},
   "outputs": [
    {
     "name": "stdout",
     "output_type": "stream",
     "text": [
      "    0   1\n",
      "0   a   0\n",
      "1   b   1\n",
      "2   c   2\n",
      "3   e   3\n",
      "4   d   4\n",
      "5   f   5\n",
      "6   g   6\n",
      "7   h   7\n",
      "8   i   8\n",
      "9   j   9\n",
      "10  k  10\n",
      "11  l  11\n",
      "12  m  12\n",
      "13  n  13\n",
      "14  o  14\n",
      "15  p  15\n",
      "16  q  16\n",
      "17  r  17\n",
      "18  s  18\n",
      "19  t  19\n",
      "20  u  20\n",
      "21  v  21\n",
      "22  w  22\n",
      "23  x  23\n",
      "24  y  24\n",
      "25  z  25\n"
     ]
    }
   ],
   "source": [
    "#4 How to combine many series to form a dataframe?\n",
    "combined= pd.concat([series_list, series_arr], axis=1)\n",
    "print(combined)"
   ]
  },
  {
   "cell_type": "code",
   "execution_count": 95,
   "id": "d1cbf177",
   "metadata": {},
   "outputs": [
    {
     "name": "stdout",
     "output_type": "stream",
     "text": [
      "0    a\n",
      "1    b\n",
      "2    c\n",
      "3    e\n",
      "4    d\n",
      "Name: alphabets, dtype: object\n"
     ]
    }
   ],
   "source": [
    "#5 How to assign name to the series’ index?\n",
    "series_list.rename(index= 'alphabets')\n",
    "print (series_list.head())"
   ]
  },
  {
   "cell_type": "code",
   "execution_count": 120,
   "id": "98bb97cb",
   "metadata": {},
   "outputs": [
    {
     "data": {
      "text/plain": [
       "0    1\n",
       "1    2\n",
       "2    3\n",
       "dtype: int64"
      ]
     },
     "execution_count": 120,
     "metadata": {},
     "output_type": "execute_result"
    }
   ],
   "source": [
    "#6 How to get the items of series A not present in series B? From ser1 remove items present in ser2.\n",
    "\n",
    "ser1 = pd.Series([1, 2, 3, 4, 5])\n",
    "ser2 = pd.Series([4, 5, 6, 7, 8])\n",
    "\n",
    "#ser1.isin(ser2)  this gives us a boolean result, the tilda here switches it into index. Thus the result shows up \n",
    "\n",
    "ser1[~ser1.isin(ser2)]"
   ]
  },
  {
   "cell_type": "code",
   "execution_count": 116,
   "id": "9c9a41a5",
   "metadata": {},
   "outputs": [
    {
     "name": "stdout",
     "output_type": "stream",
     "text": [
      "0    1\n",
      "1    2\n",
      "2    3\n",
      "2    6\n",
      "3    7\n",
      "4    8\n",
      "dtype: int64\n"
     ]
    }
   ],
   "source": [
    "#7 Get all items of ser1 and ser2 not common to both\n",
    "ser1 = pd.Series([1, 2, 3, 4, 5])\n",
    "ser2 = pd.Series([4, 5, 6, 7, 8])\n",
    "\n",
    "#convert the two series into dataframes and combine them into one dataframe \n",
    "df_ser3= pd.concat([pd.Series(ser1), pd.Series(ser2)])\n",
    "\n",
    "#drop the duplicates in dataframe \n",
    "df_dropped= df_ser3.drop_duplicates(keep=False)\n",
    "\n",
    "print (df_dropped)"
   ]
  },
  {
   "cell_type": "code",
   "execution_count": 121,
   "id": "bfaa3a95",
   "metadata": {},
   "outputs": [
    {
     "data": {
      "text/plain": [
       "0    1\n",
       "1    2\n",
       "2    3\n",
       "5    6\n",
       "6    7\n",
       "7    8\n",
       "dtype: int64"
      ]
     },
     "execution_count": 121,
     "metadata": {},
     "output_type": "execute_result"
    }
   ],
   "source": [
    "# Input SOLUTION from cheatsheet\n",
    "ser1 = pd.Series([1, 2, 3, 4, 5])\n",
    "ser2 = pd.Series([4, 5, 6, 7, 8])\n",
    "\n",
    "# Solution\n",
    "ser_u = pd.Series(np.union1d(ser1, ser2))  # union\n",
    "ser_i = pd.Series(np.intersect1d(ser1, ser2))  # intersect\n",
    "ser_u[~ser_u.isin(ser_i)]"
   ]
  },
  {
   "cell_type": "code",
   "execution_count": 139,
   "id": "662fe6d2",
   "metadata": {},
   "outputs": [
    {
     "name": "stdout",
     "output_type": "stream",
     "text": [
      "0     12.858671\n",
      "1     11.063451\n",
      "2     12.833940\n",
      "3      7.056448\n",
      "4      6.285575\n",
      "5      2.762220\n",
      "6     17.054153\n",
      "7      7.259682\n",
      "8      4.205019\n",
      "9      9.267231\n",
      "10     7.168240\n",
      "11    -0.122673\n",
      "12     3.899159\n",
      "13    14.212649\n",
      "14    -1.449555\n",
      "15     5.166929\n",
      "16    19.318602\n",
      "17    12.239523\n",
      "18    10.106819\n",
      "19     3.856310\n",
      "20    12.268233\n",
      "21    10.386044\n",
      "22    17.463930\n",
      "23    -0.471113\n",
      "24    16.798505\n",
      "dtype: float64\n"
     ]
    }
   ],
   "source": [
    "#8Compute the minimum, 25th percentile, median, 75th, and maximum of ser.\n",
    "ser = pd.Series(np.random.normal(10, 5, 25))\n",
    "print (ser)"
   ]
  },
  {
   "cell_type": "markdown",
   "id": "bb70a91b",
   "metadata": {},
   "source": [
    "0 quartile = 0 quantile = 0 percentile\n",
    "\n",
    "1 quartile = 0.25 quantile = 25 percentile\n",
    "\n",
    "2 quartile = .5 quantile = 50 percentile (median)\n",
    "\n",
    "3 quartile = .75 quantile = 75 percentile\n",
    "\n",
    "4 quartile = 1 quantile = 100 percentile"
   ]
  },
  {
   "cell_type": "code",
   "execution_count": 140,
   "id": "43122c5a",
   "metadata": {},
   "outputs": [
    {
     "data": {
      "text/plain": [
       "-1.4495549803072514"
      ]
     },
     "execution_count": 140,
     "metadata": {},
     "output_type": "execute_result"
    }
   ],
   "source": [
    "ser.min()"
   ]
  },
  {
   "cell_type": "code",
   "execution_count": 146,
   "id": "e969e40b",
   "metadata": {},
   "outputs": [
    {
     "data": {
      "text/plain": [
       "4.2050191361492235"
      ]
     },
     "execution_count": 146,
     "metadata": {},
     "output_type": "execute_result"
    }
   ],
   "source": [
    "np.percentile(ser, q=25)"
   ]
  },
  {
   "cell_type": "code",
   "execution_count": 147,
   "id": "6983f55d",
   "metadata": {},
   "outputs": [
    {
     "data": {
      "text/plain": [
       "9.267231125228"
      ]
     },
     "execution_count": 147,
     "metadata": {},
     "output_type": "execute_result"
    }
   ],
   "source": [
    "ser.median()"
   ]
  },
  {
   "cell_type": "code",
   "execution_count": 148,
   "id": "fd1280d1",
   "metadata": {},
   "outputs": [
    {
     "data": {
      "text/plain": [
       "12.833939722029735"
      ]
     },
     "execution_count": 148,
     "metadata": {},
     "output_type": "execute_result"
    }
   ],
   "source": [
    "np.percentile(ser, q=75)"
   ]
  },
  {
   "cell_type": "code",
   "execution_count": 149,
   "id": "05211b63",
   "metadata": {
    "scrolled": true
   },
   "outputs": [
    {
     "data": {
      "text/plain": [
       "19.3186024813238"
      ]
     },
     "execution_count": 149,
     "metadata": {},
     "output_type": "execute_result"
    }
   ],
   "source": [
    "ser.max()"
   ]
  },
  {
   "cell_type": "code",
   "execution_count": 150,
   "id": "0b801547",
   "metadata": {},
   "outputs": [
    {
     "data": {
      "text/plain": [
       "array([-1.44955498,  4.20501914,  9.26723113, 12.83393972, 19.31860248])"
      ]
     },
     "execution_count": 150,
     "metadata": {},
     "output_type": "execute_result"
    }
   ],
   "source": [
    "np.percentile(ser, q=[0, 25, 50, 75, 100])"
   ]
  },
  {
   "cell_type": "code",
   "execution_count": 152,
   "id": "ac83a798",
   "metadata": {},
   "outputs": [
    {
     "name": "stdout",
     "output_type": "stream",
     "text": [
      "0     a\n",
      "1     a\n",
      "2     a\n",
      "3     c\n",
      "4     e\n",
      "5     b\n",
      "6     d\n",
      "7     b\n",
      "8     f\n",
      "9     d\n",
      "10    f\n",
      "11    e\n",
      "12    h\n",
      "13    h\n",
      "14    a\n",
      "15    g\n",
      "16    d\n",
      "17    d\n",
      "18    g\n",
      "19    e\n",
      "20    d\n",
      "21    c\n",
      "22    f\n",
      "23    f\n",
      "24    f\n",
      "25    g\n",
      "26    e\n",
      "27    b\n",
      "28    f\n",
      "29    a\n",
      "dtype: object\n"
     ]
    }
   ],
   "source": [
    "#9 Calculte the frequency counts of each unique value ser.\n",
    "ser_mix = pd.Series(np.take(list('abcdefgh'), np.random.randint(8, size=30)))    \n",
    "#nptake (Take elements from an array along an axis, shows the element)\n",
    "#np.random.randint return random integers from low (inclusive) to high (exclusive).\n",
    "print (ser_mix) "
   ]
  },
  {
   "cell_type": "code",
   "execution_count": 153,
   "id": "48f8fc66",
   "metadata": {},
   "outputs": [
    {
     "data": {
      "text/plain": [
       "f    6\n",
       "a    5\n",
       "d    5\n",
       "e    4\n",
       "b    3\n",
       "g    3\n",
       "c    2\n",
       "h    2\n",
       "dtype: int64"
      ]
     },
     "execution_count": 153,
     "metadata": {},
     "output_type": "execute_result"
    }
   ],
   "source": [
    "ser_mix.value_counts()    #Series.value_counts(normalize=False, sort=True, ascending=False, bins=None, dropna=True)"
   ]
  },
  {
   "cell_type": "code",
   "execution_count": 160,
   "id": "87f5b00d",
   "metadata": {},
   "outputs": [
    {
     "data": {
      "text/plain": [
       "f    6\n",
       "a    5\n",
       "d    5\n",
       "e    4\n",
       "b    3\n",
       "g    3\n",
       "c    2\n",
       "h    2\n",
       "dtype: int64"
      ]
     },
     "execution_count": 160,
     "metadata": {},
     "output_type": "execute_result"
    }
   ],
   "source": [
    "ser_mix.value_counts(ascending=False)    #sorting ascending "
   ]
  },
  {
   "cell_type": "code",
   "execution_count": 196,
   "id": "1d8cf64e",
   "metadata": {},
   "outputs": [
    {
     "name": "stdout",
     "output_type": "stream",
     "text": [
      "f    6\n",
      "a    5\n",
      "d    5\n",
      "e    4\n",
      "b    3\n",
      "g    3\n",
      "c    2\n",
      "h    2\n",
      "dtype: int64\n"
     ]
    }
   ],
   "source": [
    "# From ser, keep the top 2 most frequent items as it is and replace everything else as ‘Other’\n",
    "Descending_ser=ser_mix.value_counts(ascending=False)\n",
    "\n",
    "print(Descending_ser)"
   ]
  },
  {
   "cell_type": "code",
   "execution_count": 197,
   "id": "738cd161",
   "metadata": {},
   "outputs": [
    {
     "name": "stdout",
     "output_type": "stream",
     "text": [
      "g    3\n",
      "c    2\n",
      "h    2\n",
      "dtype: int64\n"
     ]
    }
   ],
   "source": [
    "# a new series without the top two most frequent \n",
    "Descending_ser= Descending_ser.iloc[5:]\n",
    "\n",
    "print(Descending_ser)"
   ]
  },
  {
   "cell_type": "code",
   "execution_count": null,
   "id": "7f304892",
   "metadata": {},
   "outputs": [],
   "source": []
  }
 ],
 "metadata": {
  "kernelspec": {
   "display_name": "Python 3 (ipykernel)",
   "language": "python",
   "name": "python3"
  },
  "language_info": {
   "codemirror_mode": {
    "name": "ipython",
    "version": 3
   },
   "file_extension": ".py",
   "mimetype": "text/x-python",
   "name": "python",
   "nbconvert_exporter": "python",
   "pygments_lexer": "ipython3",
   "version": "3.8.12"
  },
  "toc": {
   "base_numbering": 1,
   "nav_menu": {},
   "number_sections": true,
   "sideBar": true,
   "skip_h1_title": false,
   "title_cell": "Table of Contents",
   "title_sidebar": "Contents",
   "toc_cell": false,
   "toc_position": {},
   "toc_section_display": true,
   "toc_window_display": false
  }
 },
 "nbformat": 4,
 "nbformat_minor": 5
}
