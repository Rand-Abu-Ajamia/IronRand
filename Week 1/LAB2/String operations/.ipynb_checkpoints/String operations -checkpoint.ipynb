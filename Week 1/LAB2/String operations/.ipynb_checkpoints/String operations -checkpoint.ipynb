{
 "cells": [
  {
   "cell_type": "markdown",
   "id": "e1c86081",
   "metadata": {},
   "source": [
    "# Challenge 1 - Combining Strings\n",
    "\n",
    "Combining strings is an important skill to acquire. There are multiple ways of combining strings in Python, as well as combining strings with variables. We will explore this in the first challenge. In the cell below, combine the strings in the list and add spaces between the strings (do not add a space after the last string). Insert a period after the last string."
   ]
  },
  {
   "cell_type": "code",
   "execution_count": 1,
   "id": "351c39ce",
   "metadata": {},
   "outputs": [],
   "source": [
    "str_list = ['I', 'am', 'strengthening', 'my', 'programming', 'skills', 'in', 'order', 'to', 'become', 'a', 'great', 'Data','Analyst']"
   ]
  },
  {
   "cell_type": "code",
   "execution_count": 4,
   "id": "b014c64d",
   "metadata": {},
   "outputs": [
    {
     "name": "stdout",
     "output_type": "stream",
     "text": [
      "I am strengthening my programming skills in order to become a great Data Analyst\n"
     ]
    }
   ],
   "source": [
    "s = ' '.join(str_list)\n",
    "print (s)"
   ]
  },
  {
   "cell_type": "markdown",
   "id": "adb1d4aa",
   "metadata": {},
   "source": [
    "In the cell below, use the list of strings to create a grocery list. Start the list with the string Grocery list: and include a comma and a space between each item except for the last one. Include a period at the end. Only include foods in the list that start with the letter 'b' and ensure all foods are lower case."
   ]
  },
  {
   "cell_type": "code",
   "execution_count": 16,
   "id": "b757de3e",
   "metadata": {},
   "outputs": [],
   "source": [
    "food_list = ['Bananas', 'Chocolate', 'bread', 'diapers', 'Ice Cream', 'Brownie Mix', 'broccoli']\n"
   ]
  },
  {
   "cell_type": "code",
   "execution_count": 36,
   "id": "3c42767d",
   "metadata": {},
   "outputs": [
    {
     "data": {
      "text/plain": [
       "'Greocery List: bananas, bread, brownie mix, broccoli.'"
      ]
     },
     "execution_count": 36,
     "metadata": {},
     "output_type": "execute_result"
    }
   ],
   "source": [
    "#make list items lower case\n",
    "for i in range(len(food_list)):\n",
    "    food_list[i] = food_list[i].lower()\n",
    "    \n",
    "\n",
    "\"Greocery List: \" + \", \".join([item.lower() for item in food_list if item.lower()[0]==\"b\"]) +\".\""
   ]
  },
  {
   "cell_type": "markdown",
   "id": "bbf86bc7",
   "metadata": {},
   "source": [
    "In the cell below, compute the area of a circle using its radius and insert the radius and the area between `string1` and `string2`. Make sure to include spaces between the variable and the strings. \n",
    "\n",
    "Note: You can use the techniques we have learned so far or use f-strings. F-strings allow us to embed code inside strings. You can read more about f-strings [here](https://www.python.org/dev/peps/pep-0498/)."
   ]
  },
  {
   "cell_type": "code",
   "execution_count": 38,
   "id": "8a2a7774",
   "metadata": {},
   "outputs": [],
   "source": [
    "###\n",
    "def area_of_the_circle(radius):\n",
    "    return round(math.pi * radius**2,1)\n",
    "\n",
    "## display the area of the circle\n",
    "def display_area_of_circle(area,radius, string1):\n",
    "    return f'{string1} {radius} is {area}'"
   ]
  },
  {
   "cell_type": "code",
   "execution_count": null,
   "id": "defcba55",
   "metadata": {},
   "outputs": [],
   "source": []
  }
 ],
 "metadata": {
  "kernelspec": {
   "display_name": "Python 3.8.12 64-bit ('DA_env': conda)",
   "language": "python",
   "name": "python3812jvsc74a57bd02c26e788c1712cbd4db7468c082724265a23eff5316bec8f150ee61cdd817318"
  },
  "language_info": {
   "codemirror_mode": {
    "name": "ipython",
    "version": 3
   },
   "file_extension": ".py",
   "mimetype": "text/x-python",
   "name": "python",
   "nbconvert_exporter": "python",
   "pygments_lexer": "ipython3",
   "version": "3.8.12"
  },
  "toc": {
   "base_numbering": 1,
   "nav_menu": {},
   "number_sections": true,
   "sideBar": true,
   "skip_h1_title": false,
   "title_cell": "Table of Contents",
   "title_sidebar": "Contents",
   "toc_cell": false,
   "toc_position": {},
   "toc_section_display": true,
   "toc_window_display": false
  }
 },
 "nbformat": 4,
 "nbformat_minor": 5
}
